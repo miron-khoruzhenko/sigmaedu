{
 "cells": [
  {
   "cell_type": "code",
   "execution_count": 23,
   "metadata": {},
   "outputs": [
    {
     "name": "stdout",
     "output_type": "stream",
     "text": [
      "sayı asal değildir\n"
     ]
    }
   ],
   "source": [
    "sayac=0\n",
    "sayi = int(input('sayıyı giriniz:'))\n",
    "if sayi==1 or 2 or 0:\n",
    "    print(\"sayı asal değildir\")\n",
    "else:    \n",
    "    for l in range(2,sayi):\n",
    "\n",
    "        if sayi%l==0:\n",
    "\n",
    "            sayac=sayac+1\n",
    "        \n",
    "        break\n",
    "    if sayac==(0):\n",
    "        print(\"sayı asaldır.\")\n",
    "    else:\n",
    "        print(\"sayı asal değildir\")\n",
    "\n"
   ]
  }
 ],
 "metadata": {
  "kernelspec": {
   "display_name": "Python 3",
   "language": "python",
   "name": "python3"
  },
  "language_info": {
   "codemirror_mode": {
    "name": "ipython",
    "version": 3
   },
   "file_extension": ".py",
   "mimetype": "text/x-python",
   "name": "python",
   "nbconvert_exporter": "python",
   "pygments_lexer": "ipython3",
   "version": "3.7.8"
  },
  "orig_nbformat": 4,
  "vscode": {
   "interpreter": {
    "hash": "0a54084e6b208ee8d1ce3989ffc20924477a5f55f5a43e22e699a6741623861e"
   }
  }
 },
 "nbformat": 4,
 "nbformat_minor": 2
}
