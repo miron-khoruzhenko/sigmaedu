{
 "cells": [
  {
   "cell_type": "code",
   "execution_count": 1,
   "metadata": {},
   "outputs": [
    {
     "name": "stdout",
     "output_type": "stream",
     "text": [
      "['Name:Murat', 'Serdar', 'Surname:Kahraman', 'Gender:Male', 'Username:myrart', 'Job:Managing', 'Director']\n"
     ]
    },
    {
     "data": {
      "text/plain": [
       "<function TextIOWrapper.close()>"
      ]
     },
     "execution_count": 1,
     "metadata": {},
     "output_type": "execute_result"
    }
   ],
   "source": [
    "dosya = open(\"data.txt\",\"r+\",encoding=\"utf-8\")\n",
    "dosya.write(\"Name:Murat Serdar\\n\")\n",
    "dosya.write(\"Surname:Kahraman\\n\")\n",
    "dosya.write(\"Gender:Male\\n\")\n",
    "dosya.write(\"Username:myrart\\n\")\n",
    "dosya.write(\"Job:Managing Director\\n\")\n",
    "oku=dosya.read(100)\n",
    "dictionary=oku.split()\n",
    "print(dictionary)\n",
    "dosya.close"
   ]
  }
 ],
 "metadata": {
  "kernelspec": {
   "display_name": "Python 3.7.8 64-bit",
   "language": "python",
   "name": "python3"
  },
  "language_info": {
   "codemirror_mode": {
    "name": "ipython",
    "version": 3
   },
   "file_extension": ".py",
   "mimetype": "text/x-python",
   "name": "python",
   "nbconvert_exporter": "python",
   "pygments_lexer": "ipython3",
   "version": "3.7.8"
  },
  "orig_nbformat": 4,
  "vscode": {
   "interpreter": {
    "hash": "0a54084e6b208ee8d1ce3989ffc20924477a5f55f5a43e22e699a6741623861e"
   }
  }
 },
 "nbformat": 4,
 "nbformat_minor": 2
}
